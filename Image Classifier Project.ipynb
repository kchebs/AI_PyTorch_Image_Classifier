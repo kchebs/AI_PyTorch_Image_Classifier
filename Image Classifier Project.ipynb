{
 "cells": [
  {
   "cell_type": "markdown",
   "metadata": {},
   "source": [
    "# Developing an AI application - PyTorch Image Classifier\n",
    "\n",
    "Going forward, AI algorithms will be incorporated into more and more everyday applications. In this project, I trained an image classifier to recognize different species of flowers. Using [this dataset](http://www.robots.ox.ac.uk/~vgg/data/flowers/102/index.html) of 102 flower categories, I\n",
    "* Load and preprocessed the image dataset\n",
    "* Trained the image classifier on your dataset\n",
    "* Used the trained classifier to predict image content\n",
    "\n",
    "An example of what the images look like is below:\n",
    "\n",
    "<img src='assets/Flowers.png' width=500px>\n",
    "\n",
    "\n",
    "The goal of this project is to creant an application that can be trained on any set of labeled images. The network will be learn about flowers and end up as a command line application."
   ]
  },
  {
   "cell_type": "markdown",
   "metadata": {},
   "source": [
    "## Import Required Packages"
   ]
  },
  {
   "cell_type": "code",
   "execution_count": 68,
   "metadata": {},
   "outputs": [],
   "source": [
    "import torch\n",
    "import torchvision\n",
    "from torchvision import models, transforms, datasets\n",
    "from collections import OrderedDict\n",
    "import json\n",
    "from workspace_utils import active_session\n",
    "import numpy as np\n",
    "from PIL import Image\n",
    "import matplotlib.pyplot as plt"
   ]
  },
  {
   "cell_type": "markdown",
   "metadata": {},
   "source": [
    "## Load the data\n",
    "\n",
    "Below I used `torchvision` to load the data ([documentation](http://pytorch.org/docs/0.3.0/torchvision/index.html)). Then I split the dataset into three parts, training, validation, and testing. For the training, I applied transformations such as random scaling, cropping, and flipping. This will help the network generalize leading to better performance. I also needed to make sure the input data is resized to 224x224 pixels as required by the pre-trained networks.\n",
    "\n",
    "The validation and testing sets are used to measure the model's performance on data it hasn't seen yet. For this I don't want any scaling or rotation transformations, but still needed to resize then crop the images to the appropriate size.\n",
    "\n",
    "The pre-trained networks I used were trained on the ImageNet dataset where each color channel was normalized separately. For all three sets I normalized the means and standard deviations of the images to what the network expects. For the means, it's `[0.485, 0.456, 0.406]` and for the standard deviations `[0.229, 0.224, 0.225]`, calculated from the ImageNet images.  These values will shift each color channel to be centered at 0 and range from -1 to 1."
   ]
  },
  {
   "cell_type": "code",
   "execution_count": 3,
   "metadata": {},
   "outputs": [],
   "source": [
    "data_dir = 'flowers'\n",
    "train_dir = data_dir + '/train'\n",
    "valid_dir = data_dir + '/valid'\n",
    "test_dir = data_dir + '/test'"
   ]
  },
  {
   "cell_type": "code",
   "execution_count": 12,
   "metadata": {},
   "outputs": [],
   "source": [
    "# Defining transforms for the training, validation, and testing sets\n",
    "data_transforms = {}\n",
    "image_datasets = {}\n",
    "data_transforms['train'] = transforms.Compose([transforms.RandomRotation(30),\n",
    "                                       transforms.RandomResizedCrop(224),\n",
    "                                       transforms.RandomHorizontalFlip(),\n",
    "                                       transforms.ToTensor(),\n",
    "                                       transforms.Normalize([0.485, 0.456, 0.406],\n",
    "                                                            [0.229, 0.224, 0.225])])\n",
    "\n",
    "data_transforms['valid_test'] = transforms.Compose([transforms.Resize(256),\n",
    "                                      transforms.CenterCrop(224),\n",
    "                                      transforms.ToTensor(),\n",
    "                                      transforms.Normalize([0.485, 0.456, 0.406],\n",
    "                                                           [0.229, 0.224, 0.225])])\n",
    "\n",
    "# Load the datasets with ImageFolder\n",
    "image_datasets['train'] = datasets.ImageFolder(train_dir, transform=data_transforms['train'])\n",
    "image_datasets['valid'] = datasets.ImageFolder(valid_dir, transform=data_transforms['valid_test'])\n",
    "image_datasets['test'] = datasets.ImageFolder(test_dir, transform=data_transforms['valid_test'])\n",
    "\n",
    "# Using the image datasets and the transforms, define the dataloaders\n",
    "# num_workers = 4 removed because of Runtime Bus Error\n",
    "dataloaders = {x: torch.utils.data.DataLoader(image_datasets[x], batch_size = 64, shuffle = True)\n",
    "              for x in ['train', 'valid', 'test']}"
   ]
  },
  {
   "cell_type": "markdown",
   "metadata": {},
   "source": [
    "### Label mapping\n",
    "\n",
    "I then loaded in a mapping from category label to category name from `cat_to_name.json`. This will give you a dictionary mapping the integer encoded categories to the actual names of the flowers."
   ]
  },
  {
   "cell_type": "code",
   "execution_count": 13,
   "metadata": {},
   "outputs": [],
   "source": [
    "with open('cat_to_name.json', 'r') as f:\n",
    "    cat_to_name = json.load(f)"
   ]
  },
  {
   "cell_type": "markdown",
   "metadata": {},
   "source": [
    "# Building and training the classifier\n",
    "\n",
    "Now that the data is ready, it's time to build and train the classifier. Next, I:\n",
    "* Loaded a [pre-trained network](http://pytorch.org/docs/master/torchvision/models.html)\n",
    "* Defined a new, untrained feed-forward network as a classifier, using ReLU activations and dropout\n",
    "* Trained the classifier layers using backpropagation using the pre-trained network to get the features\n",
    "* Tracked the loss and accuracy on the validation set to determine the best hyperparameters\n",
    "\n",
    "When training I only update the weights of the feed-forward network."
   ]
  },
  {
   "cell_type": "code",
   "execution_count": 14,
   "metadata": {},
   "outputs": [],
   "source": [
    "# Building and training the network\n",
    "\n",
    "# Allows for automation of building linear, relu, dropout alternating layers ending in a log softmax\n",
    "def classifier_builder(input_size, hidden_sizes, output_size, dropout):\n",
    "    sizes = [input_size] + hidden_sizes + [output_size]\n",
    "    layer_list = []\n",
    "    \n",
    "    for i in range(1, len(sizes)):\n",
    "        layer_list.append(('fc' + str(i), torch.nn.Linear(sizes[i-i], sizes[i])))\n",
    "        if  i < len(sizes) - 1:\n",
    "            layer_list.append(('relu' + str(i), torch.nn.ReLU()))\n",
    "            layer_list.append(('drop' + str(i), torch.nn.Dropout(dropout)))\n",
    "            \n",
    "    layer_list.append(('output', torch.nn.LogSoftmax(dim=1)))\n",
    "    classifier = torch.nn.Sequential(OrderedDict(layer_list))\n",
    "    \n",
    "    return classifier"
   ]
  },
  {
   "cell_type": "code",
   "execution_count": 15,
   "metadata": {},
   "outputs": [],
   "source": [
    "# Allows for easy model testing\n",
    "def model_creator(arch):\n",
    "    model = eval('models.' + arch + '(pretrained = True)')\n",
    "    \n",
    "    # Freeze parameters so they are not backprop through them\n",
    "    for param in model.parameters():\n",
    "        param.requires_grad = False\n",
    "        \n",
    "    return model"
   ]
  },
  {
   "cell_type": "code",
   "execution_count": 16,
   "metadata": {},
   "outputs": [
    {
     "data": {
      "text/plain": [
       "VGG(\n",
       "  (features): Sequential(\n",
       "    (0): Conv2d(3, 64, kernel_size=(3, 3), stride=(1, 1), padding=(1, 1))\n",
       "    (1): ReLU(inplace)\n",
       "    (2): Conv2d(64, 64, kernel_size=(3, 3), stride=(1, 1), padding=(1, 1))\n",
       "    (3): ReLU(inplace)\n",
       "    (4): MaxPool2d(kernel_size=2, stride=2, padding=0, dilation=1, ceil_mode=False)\n",
       "    (5): Conv2d(64, 128, kernel_size=(3, 3), stride=(1, 1), padding=(1, 1))\n",
       "    (6): ReLU(inplace)\n",
       "    (7): Conv2d(128, 128, kernel_size=(3, 3), stride=(1, 1), padding=(1, 1))\n",
       "    (8): ReLU(inplace)\n",
       "    (9): MaxPool2d(kernel_size=2, stride=2, padding=0, dilation=1, ceil_mode=False)\n",
       "    (10): Conv2d(128, 256, kernel_size=(3, 3), stride=(1, 1), padding=(1, 1))\n",
       "    (11): ReLU(inplace)\n",
       "    (12): Conv2d(256, 256, kernel_size=(3, 3), stride=(1, 1), padding=(1, 1))\n",
       "    (13): ReLU(inplace)\n",
       "    (14): Conv2d(256, 256, kernel_size=(3, 3), stride=(1, 1), padding=(1, 1))\n",
       "    (15): ReLU(inplace)\n",
       "    (16): MaxPool2d(kernel_size=2, stride=2, padding=0, dilation=1, ceil_mode=False)\n",
       "    (17): Conv2d(256, 512, kernel_size=(3, 3), stride=(1, 1), padding=(1, 1))\n",
       "    (18): ReLU(inplace)\n",
       "    (19): Conv2d(512, 512, kernel_size=(3, 3), stride=(1, 1), padding=(1, 1))\n",
       "    (20): ReLU(inplace)\n",
       "    (21): Conv2d(512, 512, kernel_size=(3, 3), stride=(1, 1), padding=(1, 1))\n",
       "    (22): ReLU(inplace)\n",
       "    (23): MaxPool2d(kernel_size=2, stride=2, padding=0, dilation=1, ceil_mode=False)\n",
       "    (24): Conv2d(512, 512, kernel_size=(3, 3), stride=(1, 1), padding=(1, 1))\n",
       "    (25): ReLU(inplace)\n",
       "    (26): Conv2d(512, 512, kernel_size=(3, 3), stride=(1, 1), padding=(1, 1))\n",
       "    (27): ReLU(inplace)\n",
       "    (28): Conv2d(512, 512, kernel_size=(3, 3), stride=(1, 1), padding=(1, 1))\n",
       "    (29): ReLU(inplace)\n",
       "    (30): MaxPool2d(kernel_size=2, stride=2, padding=0, dilation=1, ceil_mode=False)\n",
       "  )\n",
       "  (classifier): Sequential(\n",
       "    (fc1): Linear(in_features=25088, out_features=102, bias=True)\n",
       "    (output): LogSoftmax()\n",
       "  )\n",
       ")"
      ]
     },
     "execution_count": 16,
     "metadata": {},
     "output_type": "execute_result"
    }
   ],
   "source": [
    "## NOTE: This block will not run without a GPU\n",
    "input_size = 25088 # Because 224 pixels...\n",
    "hidden_sizes = []\n",
    "output_size = 102 # Because 102 flower categories\n",
    "dropout = 0\n",
    "\n",
    "arch = 'vgg16' # The model architecture is PyTorch's VGG16\n",
    "# Using Cuda for GPU usage below\n",
    "device = torch.device(\"cuda:0\" if torch.cuda.is_available else \"cpu\")\n",
    "\n",
    "model = model_creator(arch)\n",
    "model.classifier = classifier_builder(input_size, hidden_sizes, output_size, dropout)\n",
    "\n",
    "model.to(device)"
   ]
  },
  {
   "cell_type": "code",
   "execution_count": 17,
   "metadata": {},
   "outputs": [],
   "source": [
    "def validate(model, valid_dataloader, criterion, device):\n",
    "    model.to(device)\n",
    "    \n",
    "    valid_loss = 0\n",
    "    accuracy = 0\n",
    "    for i, (inputs, labels) in enumerate(valid_dataloader):\n",
    "        \n",
    "        # Move input and label tensors to the GPU\n",
    "        inputs, labels = inputs.to(device), labels.to(device)\n",
    "        \n",
    "        output = model.forward(inputs)\n",
    "        valid_loss += criterion(output, labels).item()\n",
    "        \n",
    "        ps = torch.exp(output)\n",
    "        equality = (labels.data == ps.max(dim=1)[1])\n",
    "        accuracy += equality.type(torch.FloatTensor).mean()\n",
    "        \n",
    "    return valid_loss, accuracy"
   ]
  },
  {
   "cell_type": "code",
   "execution_count": 18,
   "metadata": {},
   "outputs": [],
   "source": [
    "def training(epochs, print_every, model, train_dataloader, valid_dataloader,\n",
    "             optimizer, criterion, device):\n",
    "        model.to(device)\n",
    "        steps = 0\n",
    "        \n",
    "        for e in range(epochs):\n",
    "            loss_so_far = 0 # the variable will be the loss for each batch\n",
    "            model.train()\n",
    "            for i, (inputs, labels) in enumerate(train_dataloader):\n",
    "                steps += 1\n",
    "                inputs, labels = inputs.to(device), labels.to(device)\n",
    "                \n",
    "                # Zeros the gradients so that next iteration\n",
    "                # has zero gradients/\"starts fresh\"\n",
    "                optimizer.zero_grad()\n",
    "                \n",
    "                outputs = model.forward(inputs)\n",
    "                loss = criterion(outputs, labels)\n",
    "                loss.backward()\n",
    "                optimizer.step()\n",
    "                \n",
    "                # Calculate the total loss for 1 epoch of training\n",
    "                loss_so_far += loss.item()\n",
    "                \n",
    "                if steps % print_every == 0:\n",
    "                    model.eval()\n",
    "                    \n",
    "                    with torch.no_grad():\n",
    "                        valid_loss, accuracy = validate(model, valid_dataloader,\n",
    "                                                       criterion, device)\n",
    "                        \n",
    "                    print(\"Epoch: {}/{}.. \".format(e+1, epochs),\n",
    "                         \"Training Loss: {:.3f}.. \".format(loss_so_far/print_every),\n",
    "                         \"Validation Loss: {:.3f}..\".format(valid_loss/len(valid_dataloader)),\n",
    "                        \"Validation Accuracy: {:.3f}..\".format(accuracy/len(valid_dataloader)))\n",
    "                    \n",
    "                    loss_so_far = 0\n",
    "                    \n",
    "                    model.train()"
   ]
  },
  {
   "cell_type": "code",
   "execution_count": 19,
   "metadata": {},
   "outputs": [
    {
     "name": "stdout",
     "output_type": "stream",
     "text": [
      "Epoch: 1/8..  Training Loss: 30.434..  Validation Loss: 9.541.. Validation Accuracy: 0.645..\n",
      "Epoch: 1/8..  Training Loss: 15.132..  Validation Loss: 9.811.. Validation Accuracy: 0.700..\n",
      "Epoch: 2/8..  Training Loss: 5.040..  Validation Loss: 7.415.. Validation Accuracy: 0.763..\n",
      "Epoch: 2/8..  Training Loss: 11.376..  Validation Loss: 7.121.. Validation Accuracy: 0.792..\n",
      "Epoch: 2/8..  Training Loss: 11.657..  Validation Loss: 7.004.. Validation Accuracy: 0.815..\n",
      "Epoch: 3/8..  Training Loss: 9.299..  Validation Loss: 7.948.. Validation Accuracy: 0.792..\n",
      "Epoch: 3/8..  Training Loss: 11.246..  Validation Loss: 6.508.. Validation Accuracy: 0.830..\n",
      "Epoch: 4/8..  Training Loss: 3.143..  Validation Loss: 7.017.. Validation Accuracy: 0.832..\n",
      "Epoch: 4/8..  Training Loss: 10.565..  Validation Loss: 7.233.. Validation Accuracy: 0.827..\n",
      "Epoch: 4/8..  Training Loss: 11.930..  Validation Loss: 7.720.. Validation Accuracy: 0.816..\n",
      "Epoch: 5/8..  Training Loss: 7.164..  Validation Loss: 7.277.. Validation Accuracy: 0.847..\n",
      "Epoch: 5/8..  Training Loss: 9.224..  Validation Loss: 7.408.. Validation Accuracy: 0.862..\n",
      "Epoch: 6/8..  Training Loss: 1.417..  Validation Loss: 8.155.. Validation Accuracy: 0.850..\n",
      "Epoch: 6/8..  Training Loss: 9.836..  Validation Loss: 7.722.. Validation Accuracy: 0.856..\n",
      "Epoch: 6/8..  Training Loss: 10.079..  Validation Loss: 7.518.. Validation Accuracy: 0.841..\n",
      "Epoch: 7/8..  Training Loss: 5.050..  Validation Loss: 7.638.. Validation Accuracy: 0.861..\n",
      "Epoch: 7/8..  Training Loss: 8.463..  Validation Loss: 6.939.. Validation Accuracy: 0.866..\n",
      "Epoch: 7/8..  Training Loss: 10.756..  Validation Loss: 7.944.. Validation Accuracy: 0.860..\n",
      "Epoch: 8/8..  Training Loss: 9.617..  Validation Loss: 7.212.. Validation Accuracy: 0.868..\n",
      "Epoch: 8/8..  Training Loss: 9.375..  Validation Loss: 6.576.. Validation Accuracy: 0.882..\n"
     ]
    }
   ],
   "source": [
    "with active_session(): \n",
    "    epochs = 8 # number of forward-backward pass pairs\n",
    "    print_every = 40 # frequency to print data\n",
    "    learning_rate = 0.01\n",
    "\n",
    "    criterion = torch.nn.NLLLoss()\n",
    "    optimizer = torch.optim.Adam(model.classifier.parameters(), lr=learning_rate)\n",
    "\n",
    "    training(epochs, print_every, model, dataloaders['train'],\n",
    "             dataloaders['valid'], optimizer, criterion, device)"
   ]
  },
  {
   "cell_type": "markdown",
   "metadata": {},
   "source": [
    "## Testing the network\n",
    "\n",
    "It's good practice to test the trained network on test data, images the network has never seen either in training or validation. This will give you a good estimate for the model's performance on completely new images."
   ]
  },
  {
   "cell_type": "code",
   "execution_count": 20,
   "metadata": {},
   "outputs": [],
   "source": [
    "# Validation on the test set\n",
    "def test_accuracy(model, test_dataloader):\n",
    "    correct = 0\n",
    "    total = 0\n",
    "    \n",
    "    model.to(device)\n",
    "    model.eval()\n",
    "    \n",
    "    with torch.no_grad():\n",
    "        for i, (inputs, labels) in enumerate(test_dataloader):\n",
    "            inputs, labels = inputs.to(device), labels.to(device)\n",
    "            \n",
    "            outputs = model(inputs)\n",
    "            _, predicted = torch.max(outputs.data, 1)\n",
    "            total += labels.size(0)\n",
    "            correct += (predicted == labels).sum().item()\n",
    "            \n",
    "    print('Accuracy of the network on the 10,000 test images: %d %%'\n",
    "         % (100 * correct / total))"
   ]
  },
  {
   "cell_type": "code",
   "execution_count": 21,
   "metadata": {},
   "outputs": [
    {
     "name": "stdout",
     "output_type": "stream",
     "text": [
      "Accuracy of the network on the 10,000 test images: 86 %\n"
     ]
    }
   ],
   "source": [
    "test_accuracy(model, dataloaders['test'])"
   ]
  },
  {
   "cell_type": "markdown",
   "metadata": {},
   "source": [
    "## Save the checkpoint\n",
    "\n",
    "Now that the network is trained, I saved the model so that I could load it later for making predictions. I also saved other things such as the mapping of classes to indices which I got from one of the image datasets: `image_datasets['train'].class_to_idx`. I attached this to the model as an attribute which makes inference easier later on.\n",
    "\n",
    "```model.class_to_idx = image_datasets['train'].class_to_idx```\n",
    "\n",
    "To load the model and keep training, I saved the number of epochs as well as the optimizer state, `optimizer.state_dict`. I also saved the trained model so that I could use it in the next part of the project."
   ]
  },
  {
   "cell_type": "code",
   "execution_count": 52,
   "metadata": {},
   "outputs": [],
   "source": [
    "# Save the checkpoint\n",
    "def save_checkpoint(input_size, output_size, hidden_sizes,\n",
    "                   dropout, class_to_idx, arch, epochs,\n",
    "                   optimizer, learning_rate):\n",
    "    checkpoint = {'input_size': input_size,\n",
    "                  'hidden_sizes': hidden_sizes,\n",
    "                  'output_size': output_size,\n",
    "                  'dropout': dropout,\n",
    "                  'state_dict': model.classifier.state_dict(),\n",
    "                  'mapping': class_to_idx,\n",
    "                  'arch': arch,\n",
    "                  'epochs': epochs,\n",
    "                  'learning_rate': learning_rate,\n",
    "                  'optimizer': optimizer.state_dict()\n",
    "                  }\n",
    "    torch.save(checkpoint, 'checkpoint.pth')"
   ]
  },
  {
   "cell_type": "code",
   "execution_count": 28,
   "metadata": {},
   "outputs": [],
   "source": [
    "mapping = image_datasets['train'].class_to_idx\n",
    "save_checkpoint(input_size, output_size, hidden_sizes, dropout, mapping,\n",
    "                arch, epochs, optimizer, learning_rate)"
   ]
  },
  {
   "cell_type": "markdown",
   "metadata": {},
   "source": [
    "## Loading the checkpoint\n",
    "\n",
    "At this point I wrote a function that can load a checkpoint and rebuild the model. That way I can come back to this project and keep working on it without having to retrain the network."
   ]
  },
  {
   "cell_type": "code",
   "execution_count": 29,
   "metadata": {},
   "outputs": [],
   "source": [
    "# Function that loads a checkpoint and rebuilds the model\n",
    "def load_checkpoint(filepath):\n",
    "    checkpoint = torch.load(filepath)\n",
    "    model = model_creator(checkpoint['arch'])\n",
    "    classifier = classifier_builder(checkpoint['input_size'],\n",
    "                    checkpoint['hidden_sizes'],\n",
    "                    checkpoint['output_size'],\n",
    "                    checkpoint['dropout'])\n",
    "    classifier.load_state_dict(checkpoint['state_dict'])\n",
    "    \n",
    "    model.classifier = classifier\n",
    "    optimizer = torch.optim.Adam(model.classifier.parameters(), \n",
    "                                 lr = checkpoint['learning_rate'])\n",
    "    optimizer.load_state_dict(checkpoint['optimizer'])\n",
    "    start_epoch = checkpoint['epochs']\n",
    "    \n",
    "    return model, optimizer, start_epoch"
   ]
  },
  {
   "cell_type": "code",
   "execution_count": 58,
   "metadata": {
    "scrolled": true
   },
   "outputs": [],
   "source": [
    "model, optimizer, start_epoch = load_checkpoint('checkpoint.pth')\n",
    "device = torch.device('cuda:0' if torch.cuda.is_available() else 'cpu')"
   ]
  },
  {
   "cell_type": "markdown",
   "metadata": {},
   "source": [
    "# Inference for classification\n",
    "\n",
    "Now I've writen a function to use a trained network for inference. That is, I've passed an image into the network and predicted the class of the flower in the image. Next, I will handle processing the input image and then write a function called `predict` that takes an image and a model, then returns the top $K$ most likely classes along with the probabilities.\n",
    "\n",
    "## Image Preprocessing\n",
    "\n",
    "I used `PIL` to load the image ([documentation](https://pillow.readthedocs.io/en/latest/reference/Image.html)). It's best to write a function that preprocesses the image so it can be used as input for the model. This function should process the images in the same manner used for training. \n",
    "\n",
    "First, I resized the images where the shortest side is 256 pixels, keeping the aspect ratio. This can be done with the [`thumbnail`](http://pillow.readthedocs.io/en/3.1.x/reference/Image.html#PIL.Image.Image.thumbnail) or [`resize`](http://pillow.readthedocs.io/en/3.1.x/reference/Image.html#PIL.Image.Image.thumbnail) methods. Then I needed to crop out the center 224x224 portion of the image.\n",
    "\n",
    "Color channels of images are typically encoded as integers 0-255, but the model expected floats 0-1 so I needed to convert the values. It's easiest with a Numpy array, which I got from the PIL image like so `np_image = np.array(pil_image)`.\n",
    "\n",
    "As before, the network expects the images to be normalized in a specific way. For the means, it's `[0.485, 0.456, 0.406]` and for the standard deviations `[0.229, 0.224, 0.225]`. I subtracted the means from each color channel, then divide by the standard deviation to normalize the images.\n",
    "\n",
    "Finally, PyTorch expects the color channel to be the first dimension but it's the third dimension in the PIL image and Numpy array so I reordered dimensions using [`ndarray.transpose`](https://docs.scipy.org/doc/numpy-1.13.0/reference/generated/numpy.ndarray.transpose.html)."
   ]
  },
  {
   "cell_type": "code",
   "execution_count": 59,
   "metadata": {},
   "outputs": [],
   "source": [
    "# Function to Process a PIL image for use in a PyTorch model\n",
    "def process_image(image):\n",
    "    image = Image.open(image_path)\n",
    "    \n",
    "    # Scales/Resize\n",
    "    width, height = image.size\n",
    "    if width < height:\n",
    "        new_width = 256\n",
    "        new_height = int(height * float(new_width) / width)\n",
    "    else:\n",
    "        new_height = 256\n",
    "        new_width = int(width * float(new_height) / height)\n",
    "        \n",
    "    image = image.resize((new_width, new_height))\n",
    "    \n",
    "    # Crop\n",
    "    left = (new_width - 224) / 2\n",
    "    right = new_width - (new_width - 224) / 2\n",
    "    upper = (new_height - 224) / 2\n",
    "    lower = new_height - (new_height - 224) / 2\n",
    "    image = image.crop((left, upper, right, lower))\n",
    "    \n",
    "    # Normalize\n",
    "    means = np.array([0.485, 0.456, 0.406])\n",
    "    stds = np.array([0.229, 0.224, 0.225])\n",
    "    np_image = np.array(image) / 255.0\n",
    "    np_image = (np_image - means) / stds\n",
    "    \n",
    "    np_image = np_image.transpose((2, 0, 1))\n",
    "    \n",
    "    return np_image"
   ]
  },
  {
   "cell_type": "markdown",
   "metadata": {},
   "source": [
    "To check my work, the function below converts a PyTorch tensor and displays it in the notebook. If my `process_image` function works, running the output through this function should return the original image (except for the cropped out portions)."
   ]
  },
  {
   "cell_type": "code",
   "execution_count": 60,
   "metadata": {},
   "outputs": [],
   "source": [
    "# Scales, crops, and normalizes a PIL image for a PyTorch model, returns an Numpy array\n",
    "def imshow(image, ax=None, title=None):\n",
    "    if ax is None:\n",
    "        fig, ax = plt.subplots()\n",
    "    \n",
    "    # PyTorch tensors assume the color channel is the first dimension\n",
    "    # but matplotlib assumes is the third dimension\n",
    "    image = image.transpose((1, 2, 0))\n",
    "    \n",
    "    # Undo preprocessing\n",
    "    mean = np.array([0.485, 0.456, 0.406])\n",
    "    std = np.array([0.229, 0.224, 0.225])\n",
    "    image = std * image + mean\n",
    "    \n",
    "    # Image needs to be clipped between 0 and 1 or it looks like noise when displayed\n",
    "    image = np.clip(image, 0, 1)\n",
    "    \n",
    "    ax.imshow(image)\n",
    "    ax.set_title(title)\n",
    "    \n",
    "    return ax"
   ]
  },
  {
   "cell_type": "markdown",
   "metadata": {},
   "source": [
    "## Class Prediction\n",
    "\n",
    "After the images are in the correct format, I wrote a function to making predictions with the model. I set it to predict the top 5 most probable classes and to calculate the class probabilities then find the $K$ largest values.\n",
    "\n",
    "To get the top $K$ largest values in a tensor, I used [`x.topk(k)`](http://pytorch.org/docs/master/torch.html#torch.topk). This method returns both the highest `k` probabilities and the indices of those probabilities corresponding to the classes. Then I converted from these indices to the actual class labels using `class_to_idx`, which I called mapping. "
   ]
  },
  {
   "cell_type": "code",
   "execution_count": 61,
   "metadata": {},
   "outputs": [],
   "source": [
    "#  Predicts the class from an image file using a trained deep learning model\n",
    "def predict(image_path, model, topk=5):\n",
    "    ''' Predict the class (or classes) of an image using a trained deep learning model.\n",
    "    '''\n",
    "    model.eval()\n",
    "    model.to(device)\n",
    "    \n",
    "    # Prediction\n",
    "    processed_image = process_image(image_path)\n",
    "    image_tensor = torch.from_numpy(np.expand_dims(processed_image, axis = 0)).float()\n",
    "    image_tensor = image_tensor.to(device)\n",
    "    \n",
    "    with torch.no_grad():\n",
    "        output = model(image_tensor)\n",
    "        \n",
    "    probs, labels = output.topk(topk)\n",
    "    probs = np.array(probs.exp().data)[0]\n",
    "    labels = np.array(labels)[0]\n",
    "    \n",
    "    return probs, labels"
   ]
  },
  {
   "cell_type": "markdown",
   "metadata": {},
   "source": [
    "## Sanity Checking\n",
    "\n",
    "Now that I used a trained model for predictions, I checked to make sure it maked sense. Even if the testing accuracy is high, it's always good to check that there aren't obvious bugs. I used `matplotlib` to plot the probabilities for the top 5 classes as a bar graph, along with the input image.\n",
    "\n",
    "I also converted from the class integer encoding to actual flower names with the `cat_to_name.json` file and showed a PyTorch tensor as an image using the `imshow` function."
   ]
  },
  {
   "cell_type": "code",
   "execution_count": 70,
   "metadata": {},
   "outputs": [],
   "source": [
    "# Display an image along with the top 5 classes\n",
    "def predict_display(image_path, model):\n",
    "    probs, labels = predict(image_path, model)\n",
    "    \n",
    "    processed_image = process_image(image_path)\n",
    "    label_map = {v: k for k, v in mapping.items()}\n",
    "    classes = [cat_to_name[label_map[i]] for i in labels]\n",
    "    \n",
    "    title = cat_to_name[image_path.split('/')[-2]]\n",
    "    \n",
    "    f, (ax1, ax2) = plt.subplots(2, 1, figsize = (6,6))\n",
    "    plt.tight_layout()\n",
    "    \n",
    "    imshow(processed_image, ax=ax1, title=title)\n",
    "    \n",
    "    ax1.set_xticks([])\n",
    "    ax1.set_yticks([])\n",
    "    \n",
    "    class_ticks = np.arange(len(classes))\n",
    "    ax2.barh(class_ticks, probs)\n",
    "    ax2.invert_yaxis()\n",
    "    ax2.set_yticks(class_ticks)\n",
    "    ax2.set_yticklabels(classes)"
   ]
  },
  {
   "cell_type": "code",
   "execution_count": 71,
   "metadata": {
    "scrolled": true
   },
   "outputs": [
    {
     "data": {
      "image/png": "[encoded data removed]",
      "text/plain": [
       "<matplotlib.figure.Figure at 0x7f54d4596898>"
      ]
     },
     "metadata": {
      "needs_background": "light"
     },
     "output_type": "display_data"
    }
   ],
   "source": [
    "image_path = train_dir + '/58/image_02714.jpg'\n",
    "\n",
    "predict_display(image_path, model)"
   ]
  }
 ],
 "metadata": {
  "kernelspec": {
   "display_name": "Python 3",
   "language": "python",
   "name": "python3"
  },
  "language_info": {
   "codemirror_mode": {
    "name": "ipython",
    "version": 3
   },
   "file_extension": ".py",
   "mimetype": "text/x-python",
   "name": "python",
   "nbconvert_exporter": "python",
   "pygments_lexer": "ipython3",
   "version": "3.7.2"
  }
 },
 "nbformat": 4,
 "nbformat_minor": 2
}
